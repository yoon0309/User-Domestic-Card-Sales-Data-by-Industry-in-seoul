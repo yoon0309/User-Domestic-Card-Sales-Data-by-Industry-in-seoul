{
  "nbformat": 4,
  "nbformat_minor": 0,
  "metadata": {
    "colab": {
      "provenance": []
    },
    "kernelspec": {
      "name": "python3",
      "display_name": "Python 3"
    },
    "language_info": {
      "name": "python"
    }
  },
  "cells": [
    {
      "cell_type": "code",
      "execution_count": 1,
      "metadata": {
        "id": "7xG_W2EcM528"
      },
      "outputs": [],
      "source": [
        "import pandas as pd"
      ]
    },
    {
      "cell_type": "code",
      "source": [
        "data1= pd.read_csv('/content/내국인(집계구) 성별연령대별.csv', encoding='cp949')\n",
        "data2=pd.read_csv('/content/내국인(집계구) 유입지별.csv', encoding='cp949')\n",
        "data3=pd.read_csv('/content/신한카드 내국인 63업종 코드.csv', encoding='cp949')"
      ],
      "metadata": {
        "id": "Vp0ST1d4OBgH"
      },
      "execution_count": 47,
      "outputs": []
    },
    {
      "cell_type": "markdown",
      "source": [
        "data1 전처리 진행"
      ],
      "metadata": {
        "id": "rMt-t_oegmYR"
      }
    },
    {
      "cell_type": "code",
      "source": [
        "data1.isnull().sum()"
      ],
      "metadata": {
        "colab": {
          "base_uri": "https://localhost:8080/"
        },
        "id": "Wju2jjaEf-sD",
        "outputId": "2b4c37f6-9e56-4c41-fa65-8823809d8207"
      },
      "execution_count": 50,
      "outputs": [
        {
          "output_type": "execute_result",
          "data": {
            "text/plain": [
              "가맹점집계구코드(TOT_REG_CD)      0\n",
              "내국인업종코드(SB_UPJONG_CD)     0\n",
              "기준년월(TS_YM)               0\n",
              "일별(TS_YMD)                0\n",
              "개인법인구분(PSN_CPR)           0\n",
              "성별(SEX_CCD)              27\n",
              "연령대별(AGE_GB)             32\n",
              "카드이용금액계(AMT_CORR)         0\n",
              "카드이용건수(USECT_CORR)        0\n",
              "dtype: int64"
            ]
          },
          "metadata": {},
          "execution_count": 50
        }
      ]
    },
    {
      "cell_type": "code",
      "source": [],
      "metadata": {
        "id": "6Kyr1XqUgJvQ"
      },
      "execution_count": null,
      "outputs": []
    },
    {
      "cell_type": "markdown",
      "source": [
        "빅쿼리는 영어로 컬럼명을 업로드 해야하기 때문에 영어로 컬럼명을 변경해줌"
      ],
      "metadata": {
        "id": "hSnJJF0IenuS"
      }
    }
  ]
}