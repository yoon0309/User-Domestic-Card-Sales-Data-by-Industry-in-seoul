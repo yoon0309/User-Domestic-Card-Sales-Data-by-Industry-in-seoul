{
  "nbformat": 4,
  "nbformat_minor": 0,
  "metadata": {
    "colab": {
      "provenance": []
    },
    "kernelspec": {
      "name": "python3",
      "display_name": "Python 3"
    },
    "language_info": {
      "name": "python"
    }
  },
  "cells": [
    {
      "cell_type": "code",
      "execution_count": 228,
      "metadata": {
        "id": "7xG_W2EcM528"
      },
      "outputs": [],
      "source": [
        "import pandas as pd\n",
        "import numpy as np"
      ]
    },
    {
      "cell_type": "code",
      "source": [
        "data1= pd.read_csv('/content/내국인(집계구) 성별연령대별.csv', encoding='cp949')\n",
        "data2=pd.read_csv('/content/내국인(집계구) 유입지별.csv', encoding='cp949')\n",
        "data3=pd.read_csv('/content/신한카드 내국인 63업종 코드.csv', encoding='cp949')"
      ],
      "metadata": {
        "id": "Vp0ST1d4OBgH"
      },
      "execution_count": 229,
      "outputs": []
    },
    {
      "cell_type": "markdown",
      "source": [
        "## data1 전처리"
      ],
      "metadata": {
        "id": "rMt-t_oegmYR"
      }
    },
    {
      "cell_type": "code",
      "source": [
        "data1.info()"
      ],
      "metadata": {
        "id": "PPxDZ_qCLJD_",
        "outputId": "5cd178e3-ce07-4e1f-b728-2ce25f7ceff3",
        "colab": {
          "base_uri": "https://localhost:8080/"
        }
      },
      "execution_count": 230,
      "outputs": [
        {
          "output_type": "stream",
          "name": "stdout",
          "text": [
            "<class 'pandas.core.frame.DataFrame'>\n",
            "RangeIndex: 500 entries, 0 to 499\n",
            "Data columns (total 9 columns):\n",
            " #   Column                 Non-Null Count  Dtype  \n",
            "---  ------                 --------------  -----  \n",
            " 0   가맹점집계구코드(TOT_REG_CD)   500 non-null    int64  \n",
            " 1   내국인업종코드(SB_UPJONG_CD)  500 non-null    object \n",
            " 2   기준년월(TS_YM)            500 non-null    int64  \n",
            " 3   일별(TS_YMD)             500 non-null    int64  \n",
            " 4   개인법인구분(PSN_CPR)        500 non-null    object \n",
            " 5   성별(SEX_CCD)            473 non-null    object \n",
            " 6   연령대별(AGE_GB)           468 non-null    object \n",
            " 7   카드이용금액계(AMT_CORR)      500 non-null    float64\n",
            " 8   카드이용건수(USECT_CORR)     500 non-null    float64\n",
            "dtypes: float64(2), int64(3), object(4)\n",
            "memory usage: 35.3+ KB\n"
          ]
        }
      ]
    },
    {
      "cell_type": "code",
      "source": [
        "# data1의 결측치 확인하기\n",
        "data1.isnull().sum()"
      ],
      "metadata": {
        "colab": {
          "base_uri": "https://localhost:8080/"
        },
        "id": "Wju2jjaEf-sD",
        "outputId": "27f8b5d0-d7e7-4a24-a592-78339db00eee"
      },
      "execution_count": 231,
      "outputs": [
        {
          "output_type": "execute_result",
          "data": {
            "text/plain": [
              "가맹점집계구코드(TOT_REG_CD)      0\n",
              "내국인업종코드(SB_UPJONG_CD)     0\n",
              "기준년월(TS_YM)               0\n",
              "일별(TS_YMD)                0\n",
              "개인법인구분(PSN_CPR)           0\n",
              "성별(SEX_CCD)              27\n",
              "연령대별(AGE_GB)             32\n",
              "카드이용금액계(AMT_CORR)         0\n",
              "카드이용건수(USECT_CORR)        0\n",
              "dtype: int64"
            ]
          },
          "metadata": {},
          "execution_count": 231
        }
      ]
    },
    {
      "cell_type": "code",
      "source": [
        "# 결측치 0으로 대체\n",
        "data1= data1.fillna(0)\n",
        "\n",
        "# 성별과 연령대 별 나이 0인 값은 제외\n",
        "data1= data1.loc[data1['성별(SEX_CCD)'] != 0]\n",
        "data1= data1.loc[data1['연령대별(AGE_GB)'] != 0]\n",
        "\n",
        "# 연령대 별 나이 '대' 제외하기\n",
        "data1['연령대별(AGE_GB)']= data1['연령대별(AGE_GB)'].str.replace('대','')\n",
        "\n",
        "# 카드 이용금액계, 카드 이용건수 일의 자리에서 반올림하기\n",
        "data1['카드이용건수(USECT_CORR)']= round(data1['카드이용건수(USECT_CORR)'], 0)\n",
        "data1['카드이용금액계(AMT_CORR)']= round(data1['카드이용금액계(AMT_CORR)'], 0)\n",
        "\n",
        "# 기준년월, 일별 datetime으로 단위 변경\n",
        "data1['기준년월(TS_YM)'] = data1['기준년월(TS_YM)'].apply(lambda x: pd.to_datetime(x, format='%Y%m').strftime('%Y-%m'))\n",
        "data1['일별(TS_YMD)']= data1['일별(TS_YMD)'].apply(lambda x: pd.to_datetime(str(x), format='%Y-%m-%d'))\n",
        "\n",
        "# 이용건수, 카드 이용금액계 int형으로 바꾸기\n",
        "data1['카드이용건수(USECT_CORR)']= data1['카드이용건수(USECT_CORR)'].astype(int)\n",
        "data1['카드이용금액계(AMT_CORR)']=data1['카드이용금액계(AMT_CORR)'].astype(int)\n",
        "\n",
        "# 빅쿼리 적재를 위한 컬럼명 변경\n",
        "data1.columns=['TOT_REG_CD','SB_UPJONG_CD','TS_YM','TS_YMD','PSN_CPR','SEX_CCD','AGE_GB','AMT_CORR','USECT_CORR']"
      ],
      "metadata": {
        "id": "3S77kMbOKBnR"
      },
      "execution_count": 232,
      "outputs": []
    },
    {
      "cell_type": "code",
      "source": [
        "# # 최종 내국인 성별연령대별 데이터\n",
        "# data1.to_csv('내국인(집계구) 성별연령대별_최종.csv')"
      ],
      "metadata": {
        "id": "73tnFhynSj9i"
      },
      "execution_count": 233,
      "outputs": []
    },
    {
      "cell_type": "markdown",
      "source": [
        "## data2 전처리"
      ],
      "metadata": {
        "id": "aV106pGOTpdx"
      }
    },
    {
      "cell_type": "code",
      "source": [
        "data2.info()"
      ],
      "metadata": {
        "id": "LEbiloVbTnxV",
        "outputId": "0a5e633e-263f-4e0e-fe90-6c44eb2c9a9d",
        "colab": {
          "base_uri": "https://localhost:8080/"
        }
      },
      "execution_count": 234,
      "outputs": [
        {
          "output_type": "stream",
          "name": "stdout",
          "text": [
            "<class 'pandas.core.frame.DataFrame'>\n",
            "RangeIndex: 500 entries, 0 to 499\n",
            "Data columns (total 8 columns):\n",
            " #   Column                 Non-Null Count  Dtype  \n",
            "---  ------                 --------------  -----  \n",
            " 0   가맹점집계구코드(TOT_REG_CD)   500 non-null    int64  \n",
            " 1   내국인업종코드(SB_UPJONG_CD)  500 non-null    object \n",
            " 2   기준연월(TS_YM)            500 non-null    int64  \n",
            " 3   일별(TS_YMD)             500 non-null    int64  \n",
            " 4   고객주소광역시(SIDO)          500 non-null    object \n",
            " 5   고객주소시군구(SGG)           438 non-null    object \n",
            " 6   카드이용금액계(AMT_CORR)      500 non-null    float64\n",
            " 7   카드이용건수(USECT_CORR)     500 non-null    float64\n",
            "dtypes: float64(2), int64(3), object(3)\n",
            "memory usage: 31.4+ KB\n"
          ]
        }
      ]
    },
    {
      "cell_type": "code",
      "source": [
        "# data2의 결측치 확인하기\n",
        "data2.isnull().sum()"
      ],
      "metadata": {
        "id": "3RuGxDQwSkgM",
        "outputId": "03583f07-3f8f-4663-a0cf-b77ac7edf2ca",
        "colab": {
          "base_uri": "https://localhost:8080/"
        }
      },
      "execution_count": 235,
      "outputs": [
        {
          "output_type": "execute_result",
          "data": {
            "text/plain": [
              "가맹점집계구코드(TOT_REG_CD)      0\n",
              "내국인업종코드(SB_UPJONG_CD)     0\n",
              "기준연월(TS_YM)               0\n",
              "일별(TS_YMD)                0\n",
              "고객주소광역시(SIDO)             0\n",
              "고객주소시군구(SGG)             62\n",
              "카드이용금액계(AMT_CORR)         0\n",
              "카드이용건수(USECT_CORR)        0\n",
              "dtype: int64"
            ]
          },
          "metadata": {},
          "execution_count": 235
        }
      ]
    },
    {
      "cell_type": "code",
      "source": [
        "# 결측치 '알수없음'으로 대체\n",
        "data2= data2.fillna('알수없음')\n",
        "\n",
        "# 고객 주소 시군구 '강동구서울;에서 서울 제거\n",
        "data2['고객주소시군구(SGG)']= data2['고객주소시군구(SGG)'].str.replace('서울','')\n",
        "\n",
        "# 카드 이용금액계, 카드 이용건수 일의 자리에서 반올림하기\n",
        "data2['카드이용건수(USECT_CORR)']= round(data2['카드이용건수(USECT_CORR)'], 0)\n",
        "data2['카드이용금액계(AMT_CORR)']= round(data2['카드이용금액계(AMT_CORR)'], 0)\n",
        "\n",
        "# 이용건수, 카드 이용금액계 int형으로 바꾸기\n",
        "data2['카드이용건수(USECT_CORR)']= data2['카드이용건수(USECT_CORR)'].astype(int)\n",
        "data2['카드이용금액계(AMT_CORR)']=data2['카드이용금액계(AMT_CORR)'].astype(int)\n",
        "\n",
        "# 기준년월, 일별 datetime으로 단위 변경\n",
        "data2['기준연월(TS_YM)'] = data2['기준연월(TS_YM)'].apply(lambda x: pd.to_datetime(x, format='%Y%m').strftime('%Y-%m'))\n",
        "data2['일별(TS_YMD)']= data2['일별(TS_YMD)'].apply(lambda x: pd.to_datetime(str(x), format='%Y-%m-%d'))"
      ],
      "metadata": {
        "id": "qZJM1-DGW1KN"
      },
      "execution_count": 236,
      "outputs": []
    },
    {
      "cell_type": "code",
      "source": [
        "# 빅쿼리 적재를 위한 컬럼명 변경\n",
        "data2.columns=['TOT_REG_CD', 'SB_UPJONG_CD', 'TS_YM', 'TS_YMD', 'SIDO', 'SGG', 'AMT_CORR', 'USECT_CORR']"
      ],
      "metadata": {
        "id": "Co0P7fmMXsHk"
      },
      "execution_count": 237,
      "outputs": []
    },
    {
      "cell_type": "code",
      "source": [
        "# # 내국인(집계구) 유입지별 데이터\n",
        "# data2.to_csv('내국인(집계구) 유입지별_최종.csv')"
      ],
      "metadata": {
        "id": "L0gpyyyLXCuD"
      },
      "execution_count": 238,
      "outputs": []
    },
    {
      "cell_type": "markdown",
      "source": [
        "## data3 전처리"
      ],
      "metadata": {
        "id": "Yox5J2COaCEq"
      }
    },
    {
      "cell_type": "code",
      "source": [
        "# data3 정보 확인\n",
        "data3.info()"
      ],
      "metadata": {
        "id": "RLLfdH9TZwsA",
        "outputId": "f080f852-c665-4a61-df10-05b3c64658c3",
        "colab": {
          "base_uri": "https://localhost:8080/"
        }
      },
      "execution_count": 239,
      "outputs": [
        {
          "output_type": "stream",
          "name": "stdout",
          "text": [
            "<class 'pandas.core.frame.DataFrame'>\n",
            "RangeIndex: 63 entries, 0 to 62\n",
            "Data columns (total 4 columns):\n",
            " #   Column                 Non-Null Count  Dtype \n",
            "---  ------                 --------------  ----- \n",
            " 0   대분류(SB_L_UPJONG_NM)    63 non-null     object\n",
            " 1   중분류(SB_M_UPJONG_NM)    63 non-null     object\n",
            " 2   내국인업종분류(SB_UPJONG_NM)  63 non-null     object\n",
            " 3   내국인업종코드(SB_UPJONG_CD)  63 non-null     object\n",
            "dtypes: object(4)\n",
            "memory usage: 2.1+ KB\n"
          ]
        }
      ]
    },
    {
      "cell_type": "code",
      "source": [
        "# data3 결측치 확인하기\n",
        "data3.isnull().sum()"
      ],
      "metadata": {
        "id": "MUKtEiM8aImr",
        "outputId": "0530e47a-754e-4c86-b586-7522b43d1778",
        "colab": {
          "base_uri": "https://localhost:8080/"
        }
      },
      "execution_count": 240,
      "outputs": [
        {
          "output_type": "execute_result",
          "data": {
            "text/plain": [
              "대분류(SB_L_UPJONG_NM)      0\n",
              "중분류(SB_M_UPJONG_NM)      0\n",
              "내국인업종분류(SB_UPJONG_NM)    0\n",
              "내국인업종코드(SB_UPJONG_CD)    0\n",
              "dtype: int64"
            ]
          },
          "metadata": {},
          "execution_count": 240
        }
      ]
    },
    {
      "cell_type": "code",
      "source": [
        "# 내국인업종코드(SB_UPJONG_CD) 대문자로 변경\n",
        "data3['내국인업종코드(SB_UPJONG_CD)']= data3['내국인업종코드(SB_UPJONG_CD)'].str.upper()\n",
        "\n",
        "# 빅쿼리 적재를 위한 컬럼명 변경\n",
        "data3.columns=['SB_L_UPJONG_NM','SB_M_UPJONG_NM','SB_UPJONG_NM','SB_UPJONG_CD' ]"
      ],
      "metadata": {
        "id": "2tN0F3gFanaR"
      },
      "execution_count": 241,
      "outputs": []
    },
    {
      "cell_type": "code",
      "source": [
        "# # 신한카드 내국인 63업종 코드 데이터\n",
        "# data3.to_csv('신한카드 내국인 63업종 코드_최종.csv')"
      ],
      "metadata": {
        "id": "iLyC4xJPaiEG"
      },
      "execution_count": 243,
      "outputs": []
    }
  ]
}