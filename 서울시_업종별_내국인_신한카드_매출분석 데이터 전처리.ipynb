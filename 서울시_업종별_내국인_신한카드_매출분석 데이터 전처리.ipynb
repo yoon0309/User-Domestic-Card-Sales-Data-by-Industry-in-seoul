{
  "nbformat": 4,
  "nbformat_minor": 0,
  "metadata": {
    "colab": {
      "provenance": []
    },
    "kernelspec": {
      "name": "python3",
      "display_name": "Python 3"
    },
    "language_info": {
      "name": "python"
    }
  },
  "cells": [
    {
      "cell_type": "code",
      "execution_count": 258,
      "metadata": {
        "id": "7xG_W2EcM528"
      },
      "outputs": [],
      "source": [
        "import pandas as pd\n",
        "import numpy as np"
      ]
    },
    {
      "cell_type": "code",
      "source": [
        "data1= pd.read_csv('/content/내국인(집계구) 성별연령대별.csv', encoding='cp949')\n",
        "data2=pd.read_csv('/content/내국인(집계구) 유입지별.csv', encoding='cp949')\n",
        "data3=pd.read_csv('/content/신한카드 내국인 63업종 코드.csv', encoding='cp949')\n",
        "data4=pd.read_csv('/content/내국인(블록) 일자별시간대별.csv',encoding='cp949')"
      ],
      "metadata": {
        "id": "Vp0ST1d4OBgH"
      },
      "execution_count": 259,
      "outputs": []
    },
    {
      "cell_type": "markdown",
      "source": [
        "## data1 전처리"
      ],
      "metadata": {
        "id": "rMt-t_oegmYR"
      }
    },
    {
      "cell_type": "code",
      "source": [
        "data1.info()"
      ],
      "metadata": {
        "id": "PPxDZ_qCLJD_",
        "outputId": "a508637c-eb57-4144-82c6-430897c2d257",
        "colab": {
          "base_uri": "https://localhost:8080/"
        }
      },
      "execution_count": 260,
      "outputs": [
        {
          "output_type": "stream",
          "name": "stdout",
          "text": [
            "<class 'pandas.core.frame.DataFrame'>\n",
            "RangeIndex: 500 entries, 0 to 499\n",
            "Data columns (total 9 columns):\n",
            " #   Column                 Non-Null Count  Dtype  \n",
            "---  ------                 --------------  -----  \n",
            " 0   가맹점집계구코드(TOT_REG_CD)   500 non-null    int64  \n",
            " 1   내국인업종코드(SB_UPJONG_CD)  500 non-null    object \n",
            " 2   기준년월(TS_YM)            500 non-null    int64  \n",
            " 3   일별(TS_YMD)             500 non-null    int64  \n",
            " 4   개인법인구분(PSN_CPR)        500 non-null    object \n",
            " 5   성별(SEX_CCD)            473 non-null    object \n",
            " 6   연령대별(AGE_GB)           468 non-null    object \n",
            " 7   카드이용금액계(AMT_CORR)      500 non-null    float64\n",
            " 8   카드이용건수(USECT_CORR)     500 non-null    float64\n",
            "dtypes: float64(2), int64(3), object(4)\n",
            "memory usage: 35.3+ KB\n"
          ]
        }
      ]
    },
    {
      "cell_type": "code",
      "source": [
        "# data1의 결측치 확인하기\n",
        "data1.isnull().sum()"
      ],
      "metadata": {
        "colab": {
          "base_uri": "https://localhost:8080/"
        },
        "id": "Wju2jjaEf-sD",
        "outputId": "c15198cb-4bc5-4615-a466-14cdca1ddf41"
      },
      "execution_count": 261,
      "outputs": [
        {
          "output_type": "execute_result",
          "data": {
            "text/plain": [
              "가맹점집계구코드(TOT_REG_CD)      0\n",
              "내국인업종코드(SB_UPJONG_CD)     0\n",
              "기준년월(TS_YM)               0\n",
              "일별(TS_YMD)                0\n",
              "개인법인구분(PSN_CPR)           0\n",
              "성별(SEX_CCD)              27\n",
              "연령대별(AGE_GB)             32\n",
              "카드이용금액계(AMT_CORR)         0\n",
              "카드이용건수(USECT_CORR)        0\n",
              "dtype: int64"
            ]
          },
          "metadata": {},
          "execution_count": 261
        }
      ]
    },
    {
      "cell_type": "code",
      "source": [
        "# 결측치 0으로 대체\n",
        "data1= data1.fillna(0)\n",
        "\n",
        "# 성별과 연령대 별 나이 0인 값은 제외\n",
        "data1= data1.loc[data1['성별(SEX_CCD)'] != 0]\n",
        "data1= data1.loc[data1['연령대별(AGE_GB)'] != 0]\n",
        "\n",
        "# 연령대 별 나이 '대' 제외하기\n",
        "data1['연령대별(AGE_GB)']= data1['연령대별(AGE_GB)'].str.replace('대','')\n",
        "\n",
        "# 카드 이용금액계, 카드 이용건수 일의 자리에서 반올림하기\n",
        "data1['카드이용건수(USECT_CORR)']= round(data1['카드이용건수(USECT_CORR)'], 0)\n",
        "data1['카드이용금액계(AMT_CORR)']= round(data1['카드이용금액계(AMT_CORR)'], 0)\n",
        "\n",
        "# 기준년월, 일별 datetime으로 단위 변경\n",
        "data1['기준년월(TS_YM)'] = data1['기준년월(TS_YM)'].apply(lambda x: pd.to_datetime(x, format='%Y%m').strftime('%Y-%m'))\n",
        "data1['일별(TS_YMD)']= data1['일별(TS_YMD)'].apply(lambda x: pd.to_datetime(str(x), format='%Y-%m-%d'))\n",
        "\n",
        "# 이용건수, 카드 이용금액계 int형으로 바꾸기\n",
        "data1['카드이용건수(USECT_CORR)']= data1['카드이용건수(USECT_CORR)'].astype(int)\n",
        "data1['카드이용금액계(AMT_CORR)']=data1['카드이용금액계(AMT_CORR)'].astype(int)\n",
        "\n",
        "# 빅쿼리 적재를 위한 컬럼명 변경\n",
        "data1.columns=['TOT_REG_CD','SB_UPJONG_CD','TS_YM','TS_YMD','PSN_CPR','SEX_CCD','AGE_GB','AMT_CORR','USECT_CORR']"
      ],
      "metadata": {
        "id": "3S77kMbOKBnR"
      },
      "execution_count": 262,
      "outputs": []
    },
    {
      "cell_type": "code",
      "source": [
        "# # 최종 내국인 성별연령대별 데이터\n",
        "# data1.to_csv('내국인(집계구) 성별연령대별_최종.csv')"
      ],
      "metadata": {
        "id": "73tnFhynSj9i"
      },
      "execution_count": 263,
      "outputs": []
    },
    {
      "cell_type": "markdown",
      "source": [
        "## data2 전처리"
      ],
      "metadata": {
        "id": "aV106pGOTpdx"
      }
    },
    {
      "cell_type": "code",
      "source": [
        "data2.info()"
      ],
      "metadata": {
        "id": "LEbiloVbTnxV",
        "outputId": "7cf60ab7-9c90-4a1f-b3d5-ff06c65919eb",
        "colab": {
          "base_uri": "https://localhost:8080/"
        }
      },
      "execution_count": 264,
      "outputs": [
        {
          "output_type": "stream",
          "name": "stdout",
          "text": [
            "<class 'pandas.core.frame.DataFrame'>\n",
            "RangeIndex: 500 entries, 0 to 499\n",
            "Data columns (total 8 columns):\n",
            " #   Column                 Non-Null Count  Dtype  \n",
            "---  ------                 --------------  -----  \n",
            " 0   가맹점집계구코드(TOT_REG_CD)   500 non-null    int64  \n",
            " 1   내국인업종코드(SB_UPJONG_CD)  500 non-null    object \n",
            " 2   기준연월(TS_YM)            500 non-null    int64  \n",
            " 3   일별(TS_YMD)             500 non-null    int64  \n",
            " 4   고객주소광역시(SIDO)          500 non-null    object \n",
            " 5   고객주소시군구(SGG)           438 non-null    object \n",
            " 6   카드이용금액계(AMT_CORR)      500 non-null    float64\n",
            " 7   카드이용건수(USECT_CORR)     500 non-null    float64\n",
            "dtypes: float64(2), int64(3), object(3)\n",
            "memory usage: 31.4+ KB\n"
          ]
        }
      ]
    },
    {
      "cell_type": "code",
      "source": [
        "# data2의 결측치 확인하기\n",
        "data2.isnull().sum()"
      ],
      "metadata": {
        "id": "3RuGxDQwSkgM",
        "outputId": "24b1a188-4ba4-4eea-d444-6d1cdca64d0a",
        "colab": {
          "base_uri": "https://localhost:8080/"
        }
      },
      "execution_count": 265,
      "outputs": [
        {
          "output_type": "execute_result",
          "data": {
            "text/plain": [
              "가맹점집계구코드(TOT_REG_CD)      0\n",
              "내국인업종코드(SB_UPJONG_CD)     0\n",
              "기준연월(TS_YM)               0\n",
              "일별(TS_YMD)                0\n",
              "고객주소광역시(SIDO)             0\n",
              "고객주소시군구(SGG)             62\n",
              "카드이용금액계(AMT_CORR)         0\n",
              "카드이용건수(USECT_CORR)        0\n",
              "dtype: int64"
            ]
          },
          "metadata": {},
          "execution_count": 265
        }
      ]
    },
    {
      "cell_type": "code",
      "source": [
        "# 결측치 '알수없음'으로 대체\n",
        "data2= data2.fillna('알수없음')\n",
        "\n",
        "# 고객 주소 시군구 '강동구서울;에서 서울 제거\n",
        "data2['고객주소시군구(SGG)']= data2['고객주소시군구(SGG)'].str.replace('서울','')\n",
        "\n",
        "# 카드 이용금액계, 카드 이용건수 일의 자리에서 반올림하기\n",
        "data2['카드이용건수(USECT_CORR)']= round(data2['카드이용건수(USECT_CORR)'], 0)\n",
        "data2['카드이용금액계(AMT_CORR)']= round(data2['카드이용금액계(AMT_CORR)'], 0)\n",
        "\n",
        "# 이용건수, 카드 이용금액계 int형으로 바꾸기\n",
        "data2['카드이용건수(USECT_CORR)']= data2['카드이용건수(USECT_CORR)'].astype(int)\n",
        "data2['카드이용금액계(AMT_CORR)']=data2['카드이용금액계(AMT_CORR)'].astype(int)\n",
        "\n",
        "# 기준년월, 일별 datetime으로 단위 변경\n",
        "data2['기준연월(TS_YM)'] = data2['기준연월(TS_YM)'].apply(lambda x: pd.to_datetime(x, format='%Y%m').strftime('%Y-%m'))\n",
        "data2['일별(TS_YMD)']= data2['일별(TS_YMD)'].apply(lambda x: pd.to_datetime(str(x), format='%Y-%m-%d'))"
      ],
      "metadata": {
        "id": "qZJM1-DGW1KN"
      },
      "execution_count": 266,
      "outputs": []
    },
    {
      "cell_type": "code",
      "source": [
        "# 빅쿼리 적재를 위한 컬럼명 변경\n",
        "data2.columns=['TOT_REG_CD', 'SB_UPJONG_CD', 'TS_YM', 'TS_YMD', 'SIDO', 'SGG', 'AMT_CORR', 'USECT_CORR']"
      ],
      "metadata": {
        "id": "Co0P7fmMXsHk"
      },
      "execution_count": 267,
      "outputs": []
    },
    {
      "cell_type": "code",
      "source": [
        "# # 내국인(집계구) 유입지별 데이터\n",
        "# data2.to_csv('내국인(집계구) 유입지별_최종.csv')"
      ],
      "metadata": {
        "id": "L0gpyyyLXCuD"
      },
      "execution_count": 268,
      "outputs": []
    },
    {
      "cell_type": "markdown",
      "source": [
        "## data3 전처리"
      ],
      "metadata": {
        "id": "Yox5J2COaCEq"
      }
    },
    {
      "cell_type": "code",
      "source": [
        "# data3 정보 확인\n",
        "data3.info()"
      ],
      "metadata": {
        "id": "RLLfdH9TZwsA",
        "outputId": "4b07ea31-fbc8-465b-935d-9bb4d8ab11a7",
        "colab": {
          "base_uri": "https://localhost:8080/"
        }
      },
      "execution_count": 269,
      "outputs": [
        {
          "output_type": "stream",
          "name": "stdout",
          "text": [
            "<class 'pandas.core.frame.DataFrame'>\n",
            "RangeIndex: 63 entries, 0 to 62\n",
            "Data columns (total 4 columns):\n",
            " #   Column                 Non-Null Count  Dtype \n",
            "---  ------                 --------------  ----- \n",
            " 0   대분류(SB_L_UPJONG_NM)    63 non-null     object\n",
            " 1   중분류(SB_M_UPJONG_NM)    63 non-null     object\n",
            " 2   내국인업종분류(SB_UPJONG_NM)  63 non-null     object\n",
            " 3   내국인업종코드(SB_UPJONG_CD)  63 non-null     object\n",
            "dtypes: object(4)\n",
            "memory usage: 2.1+ KB\n"
          ]
        }
      ]
    },
    {
      "cell_type": "code",
      "source": [
        "# data3 결측치 확인하기\n",
        "data3.isnull().sum()"
      ],
      "metadata": {
        "id": "MUKtEiM8aImr",
        "outputId": "c2c72073-7364-4a68-f4d8-30b1bfb99391",
        "colab": {
          "base_uri": "https://localhost:8080/"
        }
      },
      "execution_count": 270,
      "outputs": [
        {
          "output_type": "execute_result",
          "data": {
            "text/plain": [
              "대분류(SB_L_UPJONG_NM)      0\n",
              "중분류(SB_M_UPJONG_NM)      0\n",
              "내국인업종분류(SB_UPJONG_NM)    0\n",
              "내국인업종코드(SB_UPJONG_CD)    0\n",
              "dtype: int64"
            ]
          },
          "metadata": {},
          "execution_count": 270
        }
      ]
    },
    {
      "cell_type": "code",
      "source": [
        "# 내국인업종코드(SB_UPJONG_CD) 대문자로 변경\n",
        "data3['내국인업종코드(SB_UPJONG_CD)']= data3['내국인업종코드(SB_UPJONG_CD)'].str.upper()\n",
        "\n",
        "# 빅쿼리 적재를 위한 컬럼명 변경\n",
        "data3.columns=['SB_L_UPJONG_NM','SB_M_UPJONG_NM','SB_UPJONG_NM','SB_UPJONG_CD' ]"
      ],
      "metadata": {
        "id": "2tN0F3gFanaR"
      },
      "execution_count": 271,
      "outputs": []
    },
    {
      "cell_type": "code",
      "source": [
        "# # 신한카드 내국인 63업종 코드 데이터\n",
        "# data3.to_csv('신한카드 내국인 63업종 코드_최종.csv')"
      ],
      "metadata": {
        "id": "iLyC4xJPaiEG"
      },
      "execution_count": 272,
      "outputs": []
    },
    {
      "cell_type": "markdown",
      "source": [
        "## data4 전처리\n"
      ],
      "metadata": {
        "id": "g6bGTgqkcvh3"
      }
    },
    {
      "cell_type": "code",
      "source": [
        "# data4 정보 확인\n",
        "data4.info()"
      ],
      "metadata": {
        "id": "lTeuzcincxwk",
        "outputId": "8b6f5d62-ac9c-4658-ac38-525640789999",
        "colab": {
          "base_uri": "https://localhost:8080/"
        }
      },
      "execution_count": 273,
      "outputs": [
        {
          "output_type": "stream",
          "name": "stdout",
          "text": [
            "<class 'pandas.core.frame.DataFrame'>\n",
            "RangeIndex: 500 entries, 0 to 499\n",
            "Data columns (total 8 columns):\n",
            " #   Column                 Non-Null Count  Dtype  \n",
            "---  ------                 --------------  -----  \n",
            " 0   가맹점블록코드(BLCK_CD)       500 non-null    int64  \n",
            " 1   내국인업종코드(SB_UPJONG_CD)  500 non-null    object \n",
            " 2   기준년월(TS_YM)            500 non-null    int64  \n",
            " 3   일별(TS_YMD)             500 non-null    int64  \n",
            " 4   요일(DAW)                500 non-null    object \n",
            " 5   시간대(TM)                500 non-null    int64  \n",
            " 6   카드이용금액계(AMT_CORR)      500 non-null    float64\n",
            " 7   카드이용건수(USECT_CORR)     500 non-null    float64\n",
            "dtypes: float64(2), int64(4), object(2)\n",
            "memory usage: 31.4+ KB\n"
          ]
        }
      ]
    },
    {
      "cell_type": "code",
      "source": [
        "# data4 결측치 확인하기\n",
        "data4.isnull().sum()"
      ],
      "metadata": {
        "id": "W2b4jHVGd9CZ",
        "outputId": "2baaa216-c4b7-4544-ed82-3bf9e9515cfe",
        "colab": {
          "base_uri": "https://localhost:8080/"
        }
      },
      "execution_count": 274,
      "outputs": [
        {
          "output_type": "execute_result",
          "data": {
            "text/plain": [
              "가맹점블록코드(BLCK_CD)         0\n",
              "내국인업종코드(SB_UPJONG_CD)    0\n",
              "기준년월(TS_YM)              0\n",
              "일별(TS_YMD)               0\n",
              "요일(DAW)                  0\n",
              "시간대(TM)                  0\n",
              "카드이용금액계(AMT_CORR)        0\n",
              "카드이용건수(USECT_CORR)       0\n",
              "dtype: int64"
            ]
          },
          "metadata": {},
          "execution_count": 274
        }
      ]
    },
    {
      "cell_type": "code",
      "source": [
        "# 기준년월, 일별 datetime으로 변경\n",
        "data4['기준년월(TS_YM)'] = data4['기준년월(TS_YM)'].apply(lambda x: pd.to_datetime(x, format='%Y%m').strftime('%Y-%m'))\n",
        "data4['일별(TS_YMD)']= data4['일별(TS_YMD)'].apply(lambda x: pd.to_datetime(str(x), format='%Y-%m-%d'))\n",
        "\n",
        "# 카드 이용 금액계, 카드 이용 건수 일의 자리에서 반올림\n",
        "data4['카드이용건수(USECT_CORR)']= round(data4['카드이용건수(USECT_CORR)'], 0)\n",
        "data4['카드이용금액계(AMT_CORR)']= round(data4['카드이용금액계(AMT_CORR)'], 0)\n",
        "\n",
        "# 이용건수, 카드 이용금액계 int형으로 바꾸기\n",
        "data4['카드이용건수(USECT_CORR)']= data4['카드이용건수(USECT_CORR)'].astype(int)\n",
        "data4['카드이용금액계(AMT_CORR)']=data4['카드이용금액계(AMT_CORR)'].astype(int)\n",
        "\n",
        "# 빅쿼리 적재를 위한 컬럼명 변경\n",
        "data4.columns=['BLCK_CD','SB_UPJONG_CD','TS_YM','TS_YMD','DAW','TM','AMT_CORR','USECT_CORR']"
      ],
      "metadata": {
        "id": "4AuBq6q2c5MD"
      },
      "execution_count": 275,
      "outputs": []
    },
    {
      "cell_type": "code",
      "source": [
        "# # 내국인(블록) 일자별시간대별 데이터\n",
        "# data4.to_csv('내국인(블록) 일자별시간대별_최종.csv')"
      ],
      "metadata": {
        "id": "kKYI592XeHow"
      },
      "execution_count": 276,
      "outputs": []
    }
  ]
}